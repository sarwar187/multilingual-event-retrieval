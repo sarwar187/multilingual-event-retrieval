{
 "cells": [
  {
   "source": [
    "import json\n",
    "import os \n",
    "print(os.getcwd())\n",
    "dict_raw = json.load(open(\"small_data/ace/english/raw/raw.json\"))\n",
    "print(len(dict_raw))"
   ],
   "cell_type": "code",
   "outputs": [
    {
     "output_type": "stream",
     "name": "stdout",
     "text": "/mnt/nfs/work1/smsarwar/ask\n16249\n"
    }
   ],
   "metadata": {},
   "execution_count": 17
  },
  {
   "source": [
    "print(dict_raw[0].keys())"
   ],
   "cell_type": "code",
   "outputs": [
    {
     "output_type": "stream",
     "name": "stdout",
     "text": "dict_keys(['sentence', 'golden-entity-mentions', 'golden-event-mentions', 'stanford-colcc', 'words', 'pos-tags', 'lemma', 'parse'])\n"
    }
   ],
   "metadata": {},
   "execution_count": 18
  },
  {
   "source": [
    "print(dict_raw[0])"
   ],
   "cell_type": "code",
   "outputs": [
    {
     "output_type": "stream",
     "name": "stdout",
     "text": "{'sentence': 'New Questions About Attacking Iraq; Is Torturing Terrorists Necessary?', 'golden-entity-mentions': [], 'golden-event-mentions': [], 'stanford-colcc': ['ROOT/dep=1/gov=-1', 'compound/dep=0/gov=1', 'mark/dep=2/gov=3', 'dep/dep=3/gov=1', 'dobj/dep=4/gov=3', 'punct/dep=5/gov=4', 'cop/dep=6/gov=9', 'nsubj/dep=7/gov=9', 'compound/dep=8/gov=9', 'parataxis/dep=9/gov=4', 'punct/dep=10/gov=9'], 'words': ['New', 'Questions', 'About', 'Attacking', 'Iraq', ';', 'Is', 'Torturing', 'Terrorists', 'Necessary', '?'], 'pos-tags': ['NNP', 'NNP', 'IN', 'VBG', 'NNP', ':', 'VBZ', 'NNP', 'NNPS', 'NNP', '.'], 'lemma': ['New', 'Questions', 'about', 'attack', 'Iraq', ';', 'be', 'Torturing', 'Terrorists', 'Necessary', '?'], 'parse': '(ROOT\\n  (FRAG\\n    (NP (NNP New) (NNP Questions))\\n    (PP (IN About)\\n      (S\\n        (VP (VBG Attacking)\\n          (NP\\n            (NP (NNP Iraq))\\n            (: ;)\\n            (SQ (VBZ Is)\\n              (NP (NNP Torturing))\\n              (NP (NNPS Terrorists) (NNP Necessary))\\n              (. ?))))))))'}\n"
    }
   ],
   "metadata": {},
   "execution_count": 20
  },
  {
   "source": [
    "for sentence in dict_raw:\n",
    "    if len(sentence[\"golden-event-mentions\"]) > 0: \n",
    "        print(sentence[\"golden-event-mentions\"])\n",
    "        break\n",
    "        "
   ],
   "cell_type": "code",
   "outputs": [
    {
     "output_type": "stream",
     "name": "stdout",
     "text": "[{'trigger': {'text': 'landed', 'start': 27, 'end': 28}, 'arguments': [{'role': 'Vehicle', 'entity-type': 'VEH:Water', 'text': 'a 30-foot Cuban patrol boat with four heavily armed men', 'start': 17, 'end': 27}, {'role': 'Artifact', 'entity-type': 'PER:Group', 'text': 'four heavily armed men', 'start': 23, 'end': 27}, {'role': 'Destination', 'entity-type': 'LOC:Region-General', 'text': 'American shores', 'start': 29, 'end': 31}], 'event_type': 'Movement:Transport'}]\n"
    }
   ],
   "metadata": {},
   "execution_count": 21
  },
  {
   "source": [
    "dict_raw = json.load(open(\"small_data/ace/arabic/raw/raw.json\"))\n",
    "print(len(dict_raw))"
   ],
   "cell_type": "code",
   "outputs": [
    {
     "output_type": "stream",
     "name": "stdout",
     "text": "2088\n"
    }
   ],
   "metadata": {},
   "execution_count": 22
  },
  {
   "source": [
    "event_types = {}\n",
    "for sentence in dict_raw:\n",
    "    if len(sentence[\"golden-event-mentions\"]) > 0: \n",
    "        #print(sentence)\n",
    "        #print(type(sentence[\"golden-event-mentions\"]))\n",
    "        for i, mention in enumerate(sentence[\"golden-event-mentions\"]):\n",
    "            event_types.setdefault(sentence[\"golden-event-mentions\"][i][\"event_type\"], [])\n",
    "            l = [sentence[\"sentence\"], sentence[\"golden-event-mentions\"][i][\"trigger\"][\"text\"], sentence[\"golden-event-mentions\"][i][\"trigger\"][\"start\"], sentence[\"golden-event-mentions\"][i][\"trigger\"][\"end\"]]\n",
    "            event_types[sentence[\"golden-event-mentions\"][i][\"event_type\"]].append(l)\n",
    "            \n",
    "        #break"
   ],
   "cell_type": "code",
   "outputs": [],
   "metadata": {},
   "execution_count": 23
  },
  {
   "source": [
    "print(len(event_types))"
   ],
   "cell_type": "code",
   "outputs": [
    {
     "output_type": "stream",
     "name": "stdout",
     "text": "31\n"
    }
   ],
   "metadata": {},
   "execution_count": 24
  },
  {
   "source": [
    "import pandas as pd\n",
    "data = []\n",
    "count = 0\n",
    "for key in event_types: \n",
    "    print(key, len(event_types[key]))\n",
    "    for sentence in event_types[key]:\n",
    "        data.append([key, len(event_types[key]), sentence[0], sentence[1], sentence[2], sentence[3]])\n",
    "\n",
    "df = pd.DataFrame(data, columns=[\"Event_Type\", \"Count\", \"Sample_sentence\", \"Trigger\", \"Start\", \"End\"])\n",
    "df.to_csv(\"results/data/arabic_query.csv\", sep = \"\\t\", encoding=\"utf-8\", index=True)\n",
    "\n",
    "#df.to_csv(\"results/data/ace_arabic_event_type_distribution.csv\", sep = \"\\t\", encoding=\"utf-8\", index=True)\n",
    "import matplotlib.pyplot as plt\n",
    "values = [] #in same order as traversing keys\n",
    "keys = [] #also needed to preserve order\n",
    "count = 0\n",
    "for key in event_types.keys():\n",
    "    keys.append(count)\n",
    "    count+=1\n",
    "    values.append(int(len(event_types[key])))\n",
    "plt.bar(keys, values, color='g')\n",
    "plt.show()\n",
    "plt.savefig(\"results/figures/ace_arabic_event_type_distribution.png\")"
   ],
   "cell_type": "code",
   "outputs": [
    {
     "output_type": "stream",
     "name": "stdout",
     "text": "Justice:Appeal 19\nJustice:Sentence 51\nMovement:Transport 392\nTransaction:Transfer-Money 42\nConflict:Attack 455\nPersonnel:End-Position 53\nPersonnel:Elect 37\nBusiness:Start-Org 9\nLife:Die 213\nLife:Injure 121\nJustice:Trial-Hearing 61\nJustice:Charge-Indict 49\nJustice:Arrest-Jail 100\nJustice:Release-Parole 28\nContact:Meet 190\nJustice:Extradite 6\nPersonnel:Start-Position 41\nContact:Phone-Write 48\nConflict:Demonstrate 58\nBusiness:End-Org 8\nJustice:Convict 5\nLife:Be-Born 5\nJustice:Fine 27\nJustice:Acquit 3\nLife:Marry 16\nTransaction:Transfer-Ownership 8\nPersonnel:Nominate 5\nLife:Divorce 4\nJustice:Sue 2\nJustice:Pardon 2\nBusiness:Declare-Bankruptcy 1\n"
    },
    {
     "output_type": "display_data",
     "data": {
      "text/plain": "<Figure size 432x288 with 1 Axes>",
      "image/svg+xml": "<?xml version=\"1.0\" encoding=\"utf-8\" standalone=\"no\"?>\n<!DOCTYPE svg PUBLIC \"-//W3C//DTD SVG 1.1//EN\"\n  \"http://www.w3.org/Graphics/SVG/1.1/DTD/svg11.dtd\">\n<!-- Created with matplotlib (https://matplotlib.org/) -->\n<svg height=\"248.518125pt\" version=\"1.1\" viewBox=\"0 0 375.2875 248.518125\" width=\"375.2875pt\" xmlns=\"http://www.w3.org/2000/svg\" xmlns:xlink=\"http://www.w3.org/1999/xlink\">\n <defs>\n  <style type=\"text/css\">\n*{stroke-linecap:butt;stroke-linejoin:round;}\n  </style>\n </defs>\n <g id=\"figure_1\">\n  <g id=\"patch_1\">\n   <path d=\"M 0 248.518125 \nL 375.2875 248.518125 \nL 375.2875 0 \nL 0 0 \nz\n\" style=\"fill:none;\"/>\n  </g>\n  <g id=\"axes_1\">\n   <g id=\"patch_2\">\n    <path d=\"M 33.2875 224.64 \nL 368.0875 224.64 \nL 368.0875 7.2 \nL 33.2875 7.2 \nz\n\" style=\"fill:#ffffff;\"/>\n   </g>\n   <g id=\"patch_3\">\n    <path clip-path=\"url(#p2fc356dabe)\" d=\"M 48.505682 224.64 \nL 56.411231 224.64 \nL 56.411231 215.992465 \nL 48.505682 215.992465 \nz\n\" style=\"fill:#008000;\"/>\n   </g>\n   <g id=\"patch_4\">\n    <path clip-path=\"url(#p2fc356dabe)\" d=\"M 58.387618 224.64 \nL 66.293167 224.64 \nL 66.293167 201.428195 \nL 58.387618 201.428195 \nz\n\" style=\"fill:#008000;\"/>\n   </g>\n   <g id=\"patch_5\">\n    <path clip-path=\"url(#p2fc356dabe)\" d=\"M 68.269554 224.64 \nL 76.175103 224.64 \nL 76.175103 46.227692 \nL 68.269554 46.227692 \nz\n\" style=\"fill:#008000;\"/>\n   </g>\n   <g id=\"patch_6\">\n    <path clip-path=\"url(#p2fc356dabe)\" d=\"M 78.151491 224.64 \nL 86.05704 224.64 \nL 86.05704 205.524396 \nL 78.151491 205.524396 \nz\n\" style=\"fill:#008000;\"/>\n   </g>\n   <g id=\"patch_7\">\n    <path clip-path=\"url(#p2fc356dabe)\" d=\"M 88.033427 224.64 \nL 95.938976 224.64 \nL 95.938976 17.554286 \nL 88.033427 17.554286 \nz\n\" style=\"fill:#008000;\"/>\n   </g>\n   <g id=\"patch_8\">\n    <path clip-path=\"url(#p2fc356dabe)\" d=\"M 97.915363 224.64 \nL 105.820912 224.64 \nL 105.820912 200.517928 \nL 97.915363 200.517928 \nz\n\" style=\"fill:#008000;\"/>\n   </g>\n   <g id=\"patch_9\">\n    <path clip-path=\"url(#p2fc356dabe)\" d=\"M 107.797299 224.64 \nL 115.702848 224.64 \nL 115.702848 207.800063 \nL 107.797299 207.800063 \nz\n\" style=\"fill:#008000;\"/>\n   </g>\n   <g id=\"patch_10\">\n    <path clip-path=\"url(#p2fc356dabe)\" d=\"M 117.679236 224.64 \nL 125.584785 224.64 \nL 125.584785 220.543799 \nL 117.679236 220.543799 \nz\n\" style=\"fill:#008000;\"/>\n   </g>\n   <g id=\"patch_11\">\n    <path clip-path=\"url(#p2fc356dabe)\" d=\"M 127.561172 224.64 \nL 135.466721 224.64 \nL 135.466721 127.696578 \nL 127.561172 127.696578 \nz\n\" style=\"fill:#008000;\"/>\n   </g>\n   <g id=\"patch_12\">\n    <path clip-path=\"url(#p2fc356dabe)\" d=\"M 137.443108 224.64 \nL 145.348657 224.64 \nL 145.348657 169.568854 \nL 137.443108 169.568854 \nz\n\" style=\"fill:#008000;\"/>\n   </g>\n   <g id=\"patch_13\">\n    <path clip-path=\"url(#p2fc356dabe)\" d=\"M 147.325044 224.64 \nL 155.230593 224.64 \nL 155.230593 196.87686 \nL 147.325044 196.87686 \nz\n\" style=\"fill:#008000;\"/>\n   </g>\n   <g id=\"patch_14\">\n    <path clip-path=\"url(#p2fc356dabe)\" d=\"M 157.206981 224.64 \nL 165.11253 224.64 \nL 165.11253 202.338462 \nL 157.206981 202.338462 \nz\n\" style=\"fill:#008000;\"/>\n   </g>\n   <g id=\"patch_15\">\n    <path clip-path=\"url(#p2fc356dabe)\" d=\"M 167.088917 224.64 \nL 174.994466 224.64 \nL 174.994466 179.126656 \nL 167.088917 179.126656 \nz\n\" style=\"fill:#008000;\"/>\n   </g>\n   <g id=\"patch_16\">\n    <path clip-path=\"url(#p2fc356dabe)\" d=\"M 176.970853 224.64 \nL 184.876402 224.64 \nL 184.876402 211.896264 \nL 176.970853 211.896264 \nz\n\" style=\"fill:#008000;\"/>\n   </g>\n   <g id=\"patch_17\">\n    <path clip-path=\"url(#p2fc356dabe)\" d=\"M 186.852789 224.64 \nL 194.758338 224.64 \nL 194.758338 138.164647 \nL 186.852789 138.164647 \nz\n\" style=\"fill:#008000;\"/>\n   </g>\n   <g id=\"patch_18\">\n    <path clip-path=\"url(#p2fc356dabe)\" d=\"M 196.734726 224.64 \nL 204.640274 224.64 \nL 204.640274 221.909199 \nL 196.734726 221.909199 \nz\n\" style=\"fill:#008000;\"/>\n   </g>\n   <g id=\"patch_19\">\n    <path clip-path=\"url(#p2fc356dabe)\" d=\"M 206.616662 224.64 \nL 214.522211 224.64 \nL 214.522211 205.979529 \nL 206.616662 205.979529 \nz\n\" style=\"fill:#008000;\"/>\n   </g>\n   <g id=\"patch_20\">\n    <path clip-path=\"url(#p2fc356dabe)\" d=\"M 216.498598 224.64 \nL 224.404147 224.64 \nL 224.404147 202.793595 \nL 216.498598 202.793595 \nz\n\" style=\"fill:#008000;\"/>\n   </g>\n   <g id=\"patch_21\">\n    <path clip-path=\"url(#p2fc356dabe)\" d=\"M 226.380534 224.64 \nL 234.286083 224.64 \nL 234.286083 198.242261 \nL 226.380534 198.242261 \nz\n\" style=\"fill:#008000;\"/>\n   </g>\n   <g id=\"patch_22\">\n    <path clip-path=\"url(#p2fc356dabe)\" d=\"M 236.26247 224.64 \nL 244.168019 224.64 \nL 244.168019 220.998932 \nL 236.26247 220.998932 \nz\n\" style=\"fill:#008000;\"/>\n   </g>\n   <g id=\"patch_23\">\n    <path clip-path=\"url(#p2fc356dabe)\" d=\"M 246.144407 224.64 \nL 254.049956 224.64 \nL 254.049956 222.364333 \nL 246.144407 222.364333 \nz\n\" style=\"fill:#008000;\"/>\n   </g>\n   <g id=\"patch_24\">\n    <path clip-path=\"url(#p2fc356dabe)\" d=\"M 256.026343 224.64 \nL 263.931892 224.64 \nL 263.931892 222.364333 \nL 256.026343 222.364333 \nz\n\" style=\"fill:#008000;\"/>\n   </g>\n   <g id=\"patch_25\">\n    <path clip-path=\"url(#p2fc356dabe)\" d=\"M 265.908279 224.64 \nL 273.813828 224.64 \nL 273.813828 212.351397 \nL 265.908279 212.351397 \nz\n\" style=\"fill:#008000;\"/>\n   </g>\n   <g id=\"patch_26\">\n    <path clip-path=\"url(#p2fc356dabe)\" d=\"M 275.790215 224.64 \nL 283.695764 224.64 \nL 283.695764 223.2746 \nL 275.790215 223.2746 \nz\n\" style=\"fill:#008000;\"/>\n   </g>\n   <g id=\"patch_27\">\n    <path clip-path=\"url(#p2fc356dabe)\" d=\"M 285.672152 224.64 \nL 293.577701 224.64 \nL 293.577701 217.357865 \nL 285.672152 217.357865 \nz\n\" style=\"fill:#008000;\"/>\n   </g>\n   <g id=\"patch_28\">\n    <path clip-path=\"url(#p2fc356dabe)\" d=\"M 295.554088 224.64 \nL 303.459637 224.64 \nL 303.459637 220.998932 \nL 295.554088 220.998932 \nz\n\" style=\"fill:#008000;\"/>\n   </g>\n   <g id=\"patch_29\">\n    <path clip-path=\"url(#p2fc356dabe)\" d=\"M 305.436024 224.64 \nL 313.341573 224.64 \nL 313.341573 222.364333 \nL 305.436024 222.364333 \nz\n\" style=\"fill:#008000;\"/>\n   </g>\n   <g id=\"patch_30\">\n    <path clip-path=\"url(#p2fc356dabe)\" d=\"M 315.31796 224.64 \nL 323.223509 224.64 \nL 323.223509 222.819466 \nL 315.31796 222.819466 \nz\n\" style=\"fill:#008000;\"/>\n   </g>\n   <g id=\"patch_31\">\n    <path clip-path=\"url(#p2fc356dabe)\" d=\"M 325.199897 224.64 \nL 333.105446 224.64 \nL 333.105446 223.729733 \nL 325.199897 223.729733 \nz\n\" style=\"fill:#008000;\"/>\n   </g>\n   <g id=\"patch_32\">\n    <path clip-path=\"url(#p2fc356dabe)\" d=\"M 335.081833 224.64 \nL 342.987382 224.64 \nL 342.987382 223.729733 \nL 335.081833 223.729733 \nz\n\" style=\"fill:#008000;\"/>\n   </g>\n   <g id=\"patch_33\">\n    <path clip-path=\"url(#p2fc356dabe)\" d=\"M 344.963769 224.64 \nL 352.869318 224.64 \nL 352.869318 224.184867 \nL 344.963769 224.184867 \nz\n\" style=\"fill:#008000;\"/>\n   </g>\n   <g id=\"matplotlib.axis_1\">\n    <g id=\"xtick_1\">\n     <g id=\"line2d_1\">\n      <defs>\n       <path d=\"M 0 0 \nL 0 3.5 \n\" id=\"m39ef7237d1\" style=\"stroke:#000000;stroke-width:0.8;\"/>\n      </defs>\n      <g>\n       <use style=\"stroke:#000000;stroke-width:0.8;\" x=\"52.458456\" xlink:href=\"#m39ef7237d1\" y=\"224.64\"/>\n      </g>\n     </g>\n     <g id=\"text_1\">\n      <!-- 0 -->\n      <defs>\n       <path d=\"M 31.78125 66.40625 \nQ 24.171875 66.40625 20.328125 58.90625 \nQ 16.5 51.421875 16.5 36.375 \nQ 16.5 21.390625 20.328125 13.890625 \nQ 24.171875 6.390625 31.78125 6.390625 \nQ 39.453125 6.390625 43.28125 13.890625 \nQ 47.125 21.390625 47.125 36.375 \nQ 47.125 51.421875 43.28125 58.90625 \nQ 39.453125 66.40625 31.78125 66.40625 \nz\nM 31.78125 74.21875 \nQ 44.046875 74.21875 50.515625 64.515625 \nQ 56.984375 54.828125 56.984375 36.375 \nQ 56.984375 17.96875 50.515625 8.265625 \nQ 44.046875 -1.421875 31.78125 -1.421875 \nQ 19.53125 -1.421875 13.0625 8.265625 \nQ 6.59375 17.96875 6.59375 36.375 \nQ 6.59375 54.828125 13.0625 64.515625 \nQ 19.53125 74.21875 31.78125 74.21875 \nz\n\" id=\"DejaVuSans-48\"/>\n      </defs>\n      <g transform=\"translate(49.277206 239.238437)scale(0.1 -0.1)\">\n       <use xlink:href=\"#DejaVuSans-48\"/>\n      </g>\n     </g>\n    </g>\n    <g id=\"xtick_2\">\n     <g id=\"line2d_2\">\n      <g>\n       <use style=\"stroke:#000000;stroke-width:0.8;\" x=\"101.868138\" xlink:href=\"#m39ef7237d1\" y=\"224.64\"/>\n      </g>\n     </g>\n     <g id=\"text_2\">\n      <!-- 5 -->\n      <defs>\n       <path d=\"M 10.796875 72.90625 \nL 49.515625 72.90625 \nL 49.515625 64.59375 \nL 19.828125 64.59375 \nL 19.828125 46.734375 \nQ 21.96875 47.46875 24.109375 47.828125 \nQ 26.265625 48.1875 28.421875 48.1875 \nQ 40.625 48.1875 47.75 41.5 \nQ 54.890625 34.8125 54.890625 23.390625 \nQ 54.890625 11.625 47.5625 5.09375 \nQ 40.234375 -1.421875 26.90625 -1.421875 \nQ 22.3125 -1.421875 17.546875 -0.640625 \nQ 12.796875 0.140625 7.71875 1.703125 \nL 7.71875 11.625 \nQ 12.109375 9.234375 16.796875 8.0625 \nQ 21.484375 6.890625 26.703125 6.890625 \nQ 35.15625 6.890625 40.078125 11.328125 \nQ 45.015625 15.765625 45.015625 23.390625 \nQ 45.015625 31 40.078125 35.4375 \nQ 35.15625 39.890625 26.703125 39.890625 \nQ 22.75 39.890625 18.8125 39.015625 \nQ 14.890625 38.140625 10.796875 36.28125 \nz\n\" id=\"DejaVuSans-53\"/>\n      </defs>\n      <g transform=\"translate(98.686888 239.238437)scale(0.1 -0.1)\">\n       <use xlink:href=\"#DejaVuSans-53\"/>\n      </g>\n     </g>\n    </g>\n    <g id=\"xtick_3\">\n     <g id=\"line2d_3\">\n      <g>\n       <use style=\"stroke:#000000;stroke-width:0.8;\" x=\"151.277819\" xlink:href=\"#m39ef7237d1\" y=\"224.64\"/>\n      </g>\n     </g>\n     <g id=\"text_3\">\n      <!-- 10 -->\n      <defs>\n       <path d=\"M 12.40625 8.296875 \nL 28.515625 8.296875 \nL 28.515625 63.921875 \nL 10.984375 60.40625 \nL 10.984375 69.390625 \nL 28.421875 72.90625 \nL 38.28125 72.90625 \nL 38.28125 8.296875 \nL 54.390625 8.296875 \nL 54.390625 0 \nL 12.40625 0 \nz\n\" id=\"DejaVuSans-49\"/>\n      </defs>\n      <g transform=\"translate(144.915319 239.238437)scale(0.1 -0.1)\">\n       <use xlink:href=\"#DejaVuSans-49\"/>\n       <use x=\"63.623047\" xlink:href=\"#DejaVuSans-48\"/>\n      </g>\n     </g>\n    </g>\n    <g id=\"xtick_4\">\n     <g id=\"line2d_4\">\n      <g>\n       <use style=\"stroke:#000000;stroke-width:0.8;\" x=\"200.6875\" xlink:href=\"#m39ef7237d1\" y=\"224.64\"/>\n      </g>\n     </g>\n     <g id=\"text_4\">\n      <!-- 15 -->\n      <g transform=\"translate(194.325 239.238437)scale(0.1 -0.1)\">\n       <use xlink:href=\"#DejaVuSans-49\"/>\n       <use x=\"63.623047\" xlink:href=\"#DejaVuSans-53\"/>\n      </g>\n     </g>\n    </g>\n    <g id=\"xtick_5\">\n     <g id=\"line2d_5\">\n      <g>\n       <use style=\"stroke:#000000;stroke-width:0.8;\" x=\"250.097181\" xlink:href=\"#m39ef7237d1\" y=\"224.64\"/>\n      </g>\n     </g>\n     <g id=\"text_5\">\n      <!-- 20 -->\n      <defs>\n       <path d=\"M 19.1875 8.296875 \nL 53.609375 8.296875 \nL 53.609375 0 \nL 7.328125 0 \nL 7.328125 8.296875 \nQ 12.9375 14.109375 22.625 23.890625 \nQ 32.328125 33.6875 34.8125 36.53125 \nQ 39.546875 41.84375 41.421875 45.53125 \nQ 43.3125 49.21875 43.3125 52.78125 \nQ 43.3125 58.59375 39.234375 62.25 \nQ 35.15625 65.921875 28.609375 65.921875 \nQ 23.96875 65.921875 18.8125 64.3125 \nQ 13.671875 62.703125 7.8125 59.421875 \nL 7.8125 69.390625 \nQ 13.765625 71.78125 18.9375 73 \nQ 24.125 74.21875 28.421875 74.21875 \nQ 39.75 74.21875 46.484375 68.546875 \nQ 53.21875 62.890625 53.21875 53.421875 \nQ 53.21875 48.921875 51.53125 44.890625 \nQ 49.859375 40.875 45.40625 35.40625 \nQ 44.1875 33.984375 37.640625 27.21875 \nQ 31.109375 20.453125 19.1875 8.296875 \nz\n\" id=\"DejaVuSans-50\"/>\n      </defs>\n      <g transform=\"translate(243.734681 239.238437)scale(0.1 -0.1)\">\n       <use xlink:href=\"#DejaVuSans-50\"/>\n       <use x=\"63.623047\" xlink:href=\"#DejaVuSans-48\"/>\n      </g>\n     </g>\n    </g>\n    <g id=\"xtick_6\">\n     <g id=\"line2d_6\">\n      <g>\n       <use style=\"stroke:#000000;stroke-width:0.8;\" x=\"299.506862\" xlink:href=\"#m39ef7237d1\" y=\"224.64\"/>\n      </g>\n     </g>\n     <g id=\"text_6\">\n      <!-- 25 -->\n      <g transform=\"translate(293.144362 239.238437)scale(0.1 -0.1)\">\n       <use xlink:href=\"#DejaVuSans-50\"/>\n       <use x=\"63.623047\" xlink:href=\"#DejaVuSans-53\"/>\n      </g>\n     </g>\n    </g>\n    <g id=\"xtick_7\">\n     <g id=\"line2d_7\">\n      <g>\n       <use style=\"stroke:#000000;stroke-width:0.8;\" x=\"348.916544\" xlink:href=\"#m39ef7237d1\" y=\"224.64\"/>\n      </g>\n     </g>\n     <g id=\"text_7\">\n      <!-- 30 -->\n      <defs>\n       <path d=\"M 40.578125 39.3125 \nQ 47.65625 37.796875 51.625 33 \nQ 55.609375 28.21875 55.609375 21.1875 \nQ 55.609375 10.40625 48.1875 4.484375 \nQ 40.765625 -1.421875 27.09375 -1.421875 \nQ 22.515625 -1.421875 17.65625 -0.515625 \nQ 12.796875 0.390625 7.625 2.203125 \nL 7.625 11.71875 \nQ 11.71875 9.328125 16.59375 8.109375 \nQ 21.484375 6.890625 26.8125 6.890625 \nQ 36.078125 6.890625 40.9375 10.546875 \nQ 45.796875 14.203125 45.796875 21.1875 \nQ 45.796875 27.640625 41.28125 31.265625 \nQ 36.765625 34.90625 28.71875 34.90625 \nL 20.21875 34.90625 \nL 20.21875 43.015625 \nL 29.109375 43.015625 \nQ 36.375 43.015625 40.234375 45.921875 \nQ 44.09375 48.828125 44.09375 54.296875 \nQ 44.09375 59.90625 40.109375 62.90625 \nQ 36.140625 65.921875 28.71875 65.921875 \nQ 24.65625 65.921875 20.015625 65.03125 \nQ 15.375 64.15625 9.8125 62.3125 \nL 9.8125 71.09375 \nQ 15.4375 72.65625 20.34375 73.4375 \nQ 25.25 74.21875 29.59375 74.21875 \nQ 40.828125 74.21875 47.359375 69.109375 \nQ 53.90625 64.015625 53.90625 55.328125 \nQ 53.90625 49.265625 50.4375 45.09375 \nQ 46.96875 40.921875 40.578125 39.3125 \nz\n\" id=\"DejaVuSans-51\"/>\n      </defs>\n      <g transform=\"translate(342.554044 239.238437)scale(0.1 -0.1)\">\n       <use xlink:href=\"#DejaVuSans-51\"/>\n       <use x=\"63.623047\" xlink:href=\"#DejaVuSans-48\"/>\n      </g>\n     </g>\n    </g>\n   </g>\n   <g id=\"matplotlib.axis_2\">\n    <g id=\"ytick_1\">\n     <g id=\"line2d_8\">\n      <defs>\n       <path d=\"M 0 0 \nL -3.5 0 \n\" id=\"m2ca2d9137f\" style=\"stroke:#000000;stroke-width:0.8;\"/>\n      </defs>\n      <g>\n       <use style=\"stroke:#000000;stroke-width:0.8;\" x=\"33.2875\" xlink:href=\"#m2ca2d9137f\" y=\"224.64\"/>\n      </g>\n     </g>\n     <g id=\"text_8\">\n      <!-- 0 -->\n      <g transform=\"translate(19.925 228.439219)scale(0.1 -0.1)\">\n       <use xlink:href=\"#DejaVuSans-48\"/>\n      </g>\n     </g>\n    </g>\n    <g id=\"ytick_2\">\n     <g id=\"line2d_9\">\n      <g>\n       <use style=\"stroke:#000000;stroke-width:0.8;\" x=\"33.2875\" xlink:href=\"#m2ca2d9137f\" y=\"179.126656\"/>\n      </g>\n     </g>\n     <g id=\"text_9\">\n      <!-- 100 -->\n      <g transform=\"translate(7.2 182.925875)scale(0.1 -0.1)\">\n       <use xlink:href=\"#DejaVuSans-49\"/>\n       <use x=\"63.623047\" xlink:href=\"#DejaVuSans-48\"/>\n       <use x=\"127.246094\" xlink:href=\"#DejaVuSans-48\"/>\n      </g>\n     </g>\n    </g>\n    <g id=\"ytick_3\">\n     <g id=\"line2d_10\">\n      <g>\n       <use style=\"stroke:#000000;stroke-width:0.8;\" x=\"33.2875\" xlink:href=\"#m2ca2d9137f\" y=\"133.613312\"/>\n      </g>\n     </g>\n     <g id=\"text_10\">\n      <!-- 200 -->\n      <g transform=\"translate(7.2 137.412531)scale(0.1 -0.1)\">\n       <use xlink:href=\"#DejaVuSans-50\"/>\n       <use x=\"63.623047\" xlink:href=\"#DejaVuSans-48\"/>\n       <use x=\"127.246094\" xlink:href=\"#DejaVuSans-48\"/>\n      </g>\n     </g>\n    </g>\n    <g id=\"ytick_4\">\n     <g id=\"line2d_11\">\n      <g>\n       <use style=\"stroke:#000000;stroke-width:0.8;\" x=\"33.2875\" xlink:href=\"#m2ca2d9137f\" y=\"88.099969\"/>\n      </g>\n     </g>\n     <g id=\"text_11\">\n      <!-- 300 -->\n      <g transform=\"translate(7.2 91.899187)scale(0.1 -0.1)\">\n       <use xlink:href=\"#DejaVuSans-51\"/>\n       <use x=\"63.623047\" xlink:href=\"#DejaVuSans-48\"/>\n       <use x=\"127.246094\" xlink:href=\"#DejaVuSans-48\"/>\n      </g>\n     </g>\n    </g>\n    <g id=\"ytick_5\">\n     <g id=\"line2d_12\">\n      <g>\n       <use style=\"stroke:#000000;stroke-width:0.8;\" x=\"33.2875\" xlink:href=\"#m2ca2d9137f\" y=\"42.586625\"/>\n      </g>\n     </g>\n     <g id=\"text_12\">\n      <!-- 400 -->\n      <defs>\n       <path d=\"M 37.796875 64.3125 \nL 12.890625 25.390625 \nL 37.796875 25.390625 \nz\nM 35.203125 72.90625 \nL 47.609375 72.90625 \nL 47.609375 25.390625 \nL 58.015625 25.390625 \nL 58.015625 17.1875 \nL 47.609375 17.1875 \nL 47.609375 0 \nL 37.796875 0 \nL 37.796875 17.1875 \nL 4.890625 17.1875 \nL 4.890625 26.703125 \nz\n\" id=\"DejaVuSans-52\"/>\n      </defs>\n      <g transform=\"translate(7.2 46.385844)scale(0.1 -0.1)\">\n       <use xlink:href=\"#DejaVuSans-52\"/>\n       <use x=\"63.623047\" xlink:href=\"#DejaVuSans-48\"/>\n       <use x=\"127.246094\" xlink:href=\"#DejaVuSans-48\"/>\n      </g>\n     </g>\n    </g>\n   </g>\n   <g id=\"patch_34\">\n    <path d=\"M 33.2875 224.64 \nL 33.2875 7.2 \n\" style=\"fill:none;stroke:#000000;stroke-linecap:square;stroke-linejoin:miter;stroke-width:0.8;\"/>\n   </g>\n   <g id=\"patch_35\">\n    <path d=\"M 368.0875 224.64 \nL 368.0875 7.2 \n\" style=\"fill:none;stroke:#000000;stroke-linecap:square;stroke-linejoin:miter;stroke-width:0.8;\"/>\n   </g>\n   <g id=\"patch_36\">\n    <path d=\"M 33.2875 224.64 \nL 368.0875 224.64 \n\" style=\"fill:none;stroke:#000000;stroke-linecap:square;stroke-linejoin:miter;stroke-width:0.8;\"/>\n   </g>\n   <g id=\"patch_37\">\n    <path d=\"M 33.2875 7.2 \nL 368.0875 7.2 \n\" style=\"fill:none;stroke:#000000;stroke-linecap:square;stroke-linejoin:miter;stroke-width:0.8;\"/>\n   </g>\n  </g>\n </g>\n <defs>\n  <clipPath id=\"p2fc356dabe\">\n   <rect height=\"217.44\" width=\"334.8\" x=\"33.2875\" y=\"7.2\"/>\n  </clipPath>\n </defs>\n</svg>\n",
      "image/png": "[encoded data removed]"
     },
     "metadata": {
      "needs_background": "light"
     }
    },
    {
     "output_type": "display_data",
     "data": {
      "text/plain": "<Figure size 432x288 with 0 Axes>"
     },
     "metadata": {}
    }
   ],
   "metadata": {},
   "execution_count": 25
  },
  {
   "cell_type": "code",
   "execution_count": null,
   "metadata": {},
   "outputs": [],
   "source": []
  }
 ],
 "metadata": {
  "kernelspec": {
   "display_name": "Python 3",
   "language": "python",
   "name": "python3"
  },
  "language_info": {
   "codemirror_mode": {
    "name": "ipython",
    "version": 3
   },
   "file_extension": ".py",
   "mimetype": "text/x-python",
   "name": "python",
   "nbconvert_exporter": "python",
   "pygments_lexer": "ipython3",
   "version": "3.7.5"
  }
 },
 "nbformat": 4,
 "nbformat_minor": 2
}